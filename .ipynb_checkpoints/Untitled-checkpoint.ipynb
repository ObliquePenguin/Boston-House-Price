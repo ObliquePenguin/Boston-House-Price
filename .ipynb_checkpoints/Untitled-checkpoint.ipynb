{
 "cells": [
  {
   "cell_type": "markdown",
   "id": "9b0a87f5-d62b-4f70-9652-94f6cbbb976d",
   "metadata": {},
   "source": [
    "House Price estimator\n"
   ]
  },
  {
   "cell_type": "code",
   "execution_count": null,
   "id": "19fe5baf-6c24-4675-8202-7c2204e627b7",
   "metadata": {},
   "outputs": [],
   "source": []
  }
 ],
 "metadata": {
  "kernelspec": {
   "display_name": "Python 3 (ipykernel)",
   "language": "python",
   "name": "python3"
  },
  "language_info": {
   "codemirror_mode": {
    "name": "ipython",
    "version": 3
   },
   "file_extension": ".py",
   "mimetype": "text/x-python",
   "name": "python",
   "nbconvert_exporter": "python",
   "pygments_lexer": "ipython3",
   "version": "3.11.7"
  }
 },
 "nbformat": 4,
 "nbformat_minor": 5
}
